{
 "cells": [
  {
   "cell_type": "markdown",
   "id": "9bd9a189-6942-4b63-bdf4-d0773ee5953c",
   "metadata": {},
   "source": [
    "## Simple workflow or graph using langgraph"
   ]
  },
  {
   "cell_type": "code",
   "execution_count": null,
   "id": "b736b73b-f61f-440b-bafa-7fbbaefbc97b",
   "metadata": {},
   "outputs": [],
   "source": [
    "#states\n",
    "\n",
    "from typing import TypedDict"
   ]
  },
  {
   "cell_type": "code",
   "execution_count": null,
   "id": "2ba22660-1218-45d8-bf8c-cc24e75bf6cf",
   "metadata": {},
   "outputs": [],
   "source": [
    "class State(TypedDict):\n",
    "    graph_info:str"
   ]
  },
  {
   "cell_type": "code",
   "execution_count": null,
   "id": "38981f26-1777-4b62-8514-a84df6990d8a",
   "metadata": {},
   "outputs": [],
   "source": [
    "# Nodes\n",
    "def start_node(state:State):\n",
    "    print(\"start_node\")\n",
    "    return state\n",
    "\n",
    "def first_node(state:State):\n",
    "    print(\"first_node\")\n",
    "    return state\n",
    "\n",
    "def second_node(state:State):\n",
    "    print(\"second_node\")"
   ]
  },
  {
   "cell_type": "code",
   "execution_count": null,
   "id": "801551af-04d6-41ba-b59e-f9c61803de33",
   "metadata": {},
   "outputs": [],
   "source": [
    "import random\n",
    "from typing import Literal"
   ]
  },
  {
   "cell_type": "code",
   "execution_count": null,
   "id": "a9b21377-43eb-4002-9619-267484e9a80e",
   "metadata": {},
   "outputs": [],
   "source": [
    "def random_node(state:State)-> Literal[\"first_node\",\"second_node\"]:\n",
    "    graph_info=state[\"graph_info\"]\n",
    "\n",
    "    if random.random()>2:\n",
    "        return \"first_node\"\n",
    "    else:\n",
    "        return \"second_node\""
   ]
  },
  {
   "cell_type": "code",
   "execution_count": null,
   "id": "c3b1aa5d-cbc5-4415-a05b-ebead7dad509",
   "metadata": {},
   "outputs": [],
   "source": []
  },
  {
   "cell_type": "markdown",
   "id": "6cfb567f-3078-407e-abba-e33560c0890e",
   "metadata": {},
   "source": [
    "## Graph Construction"
   ]
  },
  {
   "cell_type": "code",
   "execution_count": 2,
   "id": "35f14eee-fd5c-42a5-b353-a6acbdf8d130",
   "metadata": {},
   "outputs": [],
   "source": [
    "from IPython.display import Image,display\n",
    "from langgraph.graph import StateGraph, END, START"
   ]
  },
  {
   "cell_type": "code",
   "execution_count": null,
   "id": "12945b77-1330-4d41-bc2e-65784b3022f1",
   "metadata": {},
   "outputs": [],
   "source": []
  }
 ],
 "metadata": {
  "kernelspec": {
   "display_name": "Python 3 (ipykernel)",
   "language": "python",
   "name": "python3"
  },
  "language_info": {
   "codemirror_mode": {
    "name": "ipython",
    "version": 3
   },
   "file_extension": ".py",
   "mimetype": "text/x-python",
   "name": "python",
   "nbconvert_exporter": "python",
   "pygments_lexer": "ipython3",
   "version": "3.11.0"
  }
 },
 "nbformat": 4,
 "nbformat_minor": 5
}
