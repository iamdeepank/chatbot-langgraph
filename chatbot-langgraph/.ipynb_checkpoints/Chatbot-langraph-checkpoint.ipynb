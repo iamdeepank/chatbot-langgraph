{
 "cells": [
  {
   "cell_type": "markdown",
   "id": "c7982da6-5774-4842-884e-001488c381f6",
   "metadata": {},
   "source": [
    "## Implementing chatbot using langgraph"
   ]
  },
  {
   "cell_type": "code",
   "execution_count": 2,
   "id": "14f33958-5b78-428c-80cf-b1be9a111ba7",
   "metadata": {},
   "outputs": [],
   "source": [
    "from typing import TypedDict\n",
    "from langgraph.graph import StateGraph,END,START\n",
    "\n",
    "#Reducers\n",
    "\n",
    "from typing import Annotated\n",
    "from langgraph.graph.message import add_messages"
   ]
  },
  {
   "cell_type": "code",
   "execution_count": null,
   "id": "1d362bcd-4428-4591-b23f-61b07e721db5",
   "metadata": {},
   "outputs": [],
   "source": [
    "class States(TypedDict):\n",
    "    messages:Annotated[list,add_messages]"
   ]
  },
  {
   "cell_type": "code",
   "execution_count": null,
   "id": "4c007c78-0b7b-453e-90d1-01be9a7d18ee",
   "metadata": {},
   "outputs": [],
   "source": []
  },
  {
   "cell_type": "code",
   "execution_count": null,
   "id": "7719b66d-07eb-42a7-9120-731e1b35c179",
   "metadata": {},
   "outputs": [],
   "source": []
  }
 ],
 "metadata": {
  "kernelspec": {
   "display_name": "Python 3 (ipykernel)",
   "language": "python",
   "name": "python3"
  },
  "language_info": {
   "codemirror_mode": {
    "name": "ipython",
    "version": 3
   },
   "file_extension": ".py",
   "mimetype": "text/x-python",
   "name": "python",
   "nbconvert_exporter": "python",
   "pygments_lexer": "ipython3",
   "version": "3.11.0"
  }
 },
 "nbformat": 4,
 "nbformat_minor": 5
}
