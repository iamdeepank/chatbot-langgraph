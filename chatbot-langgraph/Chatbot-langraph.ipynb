{
 "cells": [
  {
   "cell_type": "markdown",
   "id": "c7982da6-5774-4842-884e-001488c381f6",
   "metadata": {},
   "source": [
    "## Implementing chatbot using langgraph"
   ]
  },
  {
   "cell_type": "code",
   "execution_count": null,
   "id": "14f33958-5b78-428c-80cf-b1be9a111ba7",
   "metadata": {},
   "outputs": [],
   "source": [
    "from typing import TypedDict\n",
    "from langgraph.graph import StateGraph,END,START\n",
    "\n",
    "#Reducers\n",
    "\n",
    "from typing import Annotated\n",
    "from langgraph.graph.message import add_messages,BaseMessage"
   ]
  },
  {
   "cell_type": "markdown",
   "id": "9007b19a-0fb2-4d91-a96c-acfe44e0958a",
   "metadata": {},
   "source": [
    "### langraph state"
   ]
  },
  {
   "cell_type": "code",
   "execution_count": null,
   "id": "1d362bcd-4428-4591-b23f-61b07e721db5",
   "metadata": {},
   "outputs": [],
   "source": [
    "\n",
    "class State(TypedDict):\n",
    "    messages:Annotated[list[BaseMessage],add_messages]"
   ]
  },
  {
   "cell_type": "code",
   "execution_count": null,
   "id": "4c007c78-0b7b-453e-90d1-01be9a7d18ee",
   "metadata": {},
   "outputs": [],
   "source": [
    "import os\n",
    "from dotenv import load_dotenv\n",
    "\n",
    "load_dotenv()\n",
    "\n",
    "os.environ[\"GROQ_API_KEY\"]=os.getenv(\"GROQ_AI_KEY\")"
   ]
  },
  {
   "cell_type": "code",
   "execution_count": null,
   "id": "7719b66d-07eb-42a7-9120-731e1b35c179",
   "metadata": {},
   "outputs": [],
   "source": [
    "from langchain_groq import ChatGroq\n",
    "\n",
    "#LLM\n",
    "llm_groq=ChatGroq(model=\"llama-3.1-8b-instant\")"
   ]
  },
  {
   "cell_type": "code",
   "execution_count": null,
   "id": "75e5bd6e-f744-423f-a576-3523cd4ecbe1",
   "metadata": {},
   "outputs": [],
   "source": [
    "llm_groq.invoke(\"hello, my name is deepank\")"
   ]
  },
  {
   "cell_type": "markdown",
   "id": "d2623784-7d3e-403b-92a9-42624d88065e",
   "metadata": {},
   "source": [
    "### Lets create a Nodes"
   ]
  },
  {
   "cell_type": "code",
   "execution_count": null,
   "id": "f495ccd3-19bc-4c46-bc28-c5dd641d27db",
   "metadata": {},
   "outputs": [],
   "source": [
    "def chatbot(state:State):\n",
    "    message=llm_groq.invoke(state[\"messages\"])\n",
    "    return {\"messages\":[message]}"
   ]
  },
  {
   "cell_type": "code",
   "execution_count": null,
   "id": "f9c30496-15da-4f50-9507-1cf2b074fa46",
   "metadata": {},
   "outputs": [],
   "source": []
  },
  {
   "cell_type": "markdown",
   "id": "edda29a7-abbb-4228-889d-3268c0ae4b2a",
   "metadata": {},
   "source": [
    "### State Graph"
   ]
  },
  {
   "cell_type": "code",
   "execution_count": null,
   "id": "bbd42c79-b03b-4479-9f98-54cda20c24f6",
   "metadata": {},
   "outputs": [],
   "source": [
    "state_graph=StateGraph(State)\n",
    "\n",
    "#node\n",
    "state_graph.add_node(\"chatbot\",chatbot)\n",
    "# edges\n",
    "state_graph.add_edge(START,\"chatbot\")\n",
    "state_graph.add_edge(\"chatbot\",END)"
   ]
  },
  {
   "cell_type": "code",
   "execution_count": null,
   "id": "18f22364-106b-408b-9d26-6d5d176f6b46",
   "metadata": {},
   "outputs": [],
   "source": [
    "graph_builder=state_graph.compile()\n",
    "\n",
    "#display\n",
    "from IPython.display import Image,display\n",
    "png_bytes = graph_builder.get_graph().draw_mermaid_png()\n",
    "display(Image(png_bytes))\n",
    "\n",
    "#save workflow\n",
    "with open(\"chatbot_workflow.png\", \"wb\") as f:\n",
    "    f.write(png_bytes)"
   ]
  },
  {
   "cell_type": "code",
   "execution_count": null,
   "id": "25d498ad-acd7-4a1f-bdf7-ed8ebb9531de",
   "metadata": {},
   "outputs": [],
   "source": [
    "graph_builder.invoke({\"messages\":\"Hi I am deepank, whats your name?\"})"
   ]
  },
  {
   "cell_type": "code",
   "execution_count": null,
   "id": "d4a34fbf-2299-488c-9552-06c878f8247a",
   "metadata": {},
   "outputs": [],
   "source": []
  },
  {
   "cell_type": "code",
   "execution_count": null,
   "id": "f3f40b8e-fc5e-45ab-804a-87b262cfe380",
   "metadata": {},
   "outputs": [],
   "source": []
  },
  {
   "cell_type": "code",
   "execution_count": null,
   "id": "4ca51be6-bdc0-4d10-9f35-24f9bbefeacc",
   "metadata": {},
   "outputs": [],
   "source": []
  }
 ],
 "metadata": {
  "kernelspec": {
   "display_name": "Python 3 (ipykernel)",
   "language": "python",
   "name": "python3"
  },
  "language_info": {
   "codemirror_mode": {
    "name": "ipython",
    "version": 3
   },
   "file_extension": ".py",
   "mimetype": "text/x-python",
   "name": "python",
   "nbconvert_exporter": "python",
   "pygments_lexer": "ipython3",
   "version": "3.11.0"
  }
 },
 "nbformat": 4,
 "nbformat_minor": 5
}
