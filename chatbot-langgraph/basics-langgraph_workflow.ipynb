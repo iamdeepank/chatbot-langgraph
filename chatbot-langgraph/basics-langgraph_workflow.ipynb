{
 "cells": [
  {
   "cell_type": "markdown",
   "id": "9bd9a189-6942-4b63-bdf4-d0773ee5953c",
   "metadata": {},
   "source": [
    "## Simple workflow or graph using langgraph"
   ]
  },
  {
   "cell_type": "code",
   "execution_count": 40,
   "id": "b736b73b-f61f-440b-bafa-7fbbaefbc97b",
   "metadata": {},
   "outputs": [],
   "source": [
    "#states\n",
    "\n",
    "from typing import TypedDict"
   ]
  },
  {
   "cell_type": "code",
   "execution_count": 41,
   "id": "2ba22660-1218-45d8-bf8c-cc24e75bf6cf",
   "metadata": {},
   "outputs": [],
   "source": [
    "class State(TypedDict):\n",
    "    graph_info:str"
   ]
  },
  {
   "cell_type": "code",
   "execution_count": 42,
   "id": "38981f26-1777-4b62-8514-a84df6990d8a",
   "metadata": {},
   "outputs": [],
   "source": [
    "# Nodes\n",
    "def start_node(state:State):\n",
    "    print(\"start_node\")\n",
    "    return state\n",
    "\n",
    "def first_node(state:State):\n",
    "    print(\"first_node\")\n",
    "    return state\n",
    "\n",
    "def second_node(state:State):\n",
    "    print(\"second_node\")"
   ]
  },
  {
   "cell_type": "code",
   "execution_count": 43,
   "id": "801551af-04d6-41ba-b59e-f9c61803de33",
   "metadata": {},
   "outputs": [],
   "source": [
    "import random\n",
    "from typing import Literal"
   ]
  },
  {
   "cell_type": "code",
   "execution_count": 76,
   "id": "a9b21377-43eb-4002-9619-267484e9a80e",
   "metadata": {},
   "outputs": [],
   "source": [
    "def random_node(state:State)-> Literal[\"first_node\",\"second_node\"]:\n",
    "    graph_info=state[\"graph_info\"]\n",
    "    return \"first_node\" if random.random()>0.1 else \"second_node\""
   ]
  },
  {
   "cell_type": "code",
   "execution_count": null,
   "id": "c3b1aa5d-cbc5-4415-a05b-ebead7dad509",
   "metadata": {},
   "outputs": [],
   "source": []
  },
  {
   "cell_type": "markdown",
   "id": "6cfb567f-3078-407e-abba-e33560c0890e",
   "metadata": {},
   "source": [
    "## Graph Construction"
   ]
  },
  {
   "cell_type": "code",
   "execution_count": 77,
   "id": "35f14eee-fd5c-42a5-b353-a6acbdf8d130",
   "metadata": {},
   "outputs": [],
   "source": [
    "from IPython.display import Image,display\n",
    "from langgraph.graph import StateGraph, END, START"
   ]
  },
  {
   "cell_type": "code",
   "execution_count": 78,
   "id": "12945b77-1330-4d41-bc2e-65784b3022f1",
   "metadata": {},
   "outputs": [
    {
     "data": {
      "text/plain": [
       "<langgraph.graph.state.StateGraph at 0x11444fe50>"
      ]
     },
     "execution_count": 78,
     "metadata": {},
     "output_type": "execute_result"
    }
   ],
   "source": [
    "#build graph\n",
    "graph= StateGraph(State)\n",
    "\n",
    "# adding node\n",
    "graph.add_node(\"start_node\",start_node)\n",
    "graph.add_node(\"first_node\",first_node)\n",
    "graph.add_node(\"second_node\",second_node)\n",
    "\n",
    "# scheduling flow of the node (edges).\n",
    "graph.add_edge(START,\"start_node\")\n",
    "graph.add_conditional_edges(\"start_node\",random_node)\n",
    "graph.add_edge(\"first_node\",END)\n",
    "graph.add_edge(\"second_node\",END)\n"
   ]
  },
  {
   "cell_type": "code",
   "execution_count": 82,
   "id": "2f1f0339-98b8-40f0-8f0e-870a1733e345",
   "metadata": {},
   "outputs": [
    {
     "data": {
      "image/png": "[encoded data removed]",
      "text/plain": [
       "<IPython.core.display.Image object>"
      ]
     },
     "metadata": {},
     "output_type": "display_data"
    }
   ],
   "source": [
    "# Compile the graph\n",
    "\n",
    "graph_builder=graph.compile()\n",
    "\n",
    "# display(Image(graph_builder.get_graph().draw_mermaid_png()))\n",
    "png_bytes = graph_builder.get_graph().draw_mermaid_png()\n",
    "display(Image(png_bytes))\n",
    "\n",
    "#save workflow\n",
    "with open(\"chatbot_workflow.png\", \"wb\") as f:\n",
    "    f.write(png_bytes)"
   ]
  },
  {
   "cell_type": "markdown",
   "id": "8bec38d4-9d91-4232-9488-4e6312082596",
   "metadata": {},
   "source": [
    "## Graph Invocation"
   ]
  },
  {
   "cell_type": "code",
   "execution_count": 80,
   "id": "e39ee90c-13d0-45c4-8a4b-01c2453681b4",
   "metadata": {},
   "outputs": [
    {
     "name": "stdout",
     "output_type": "stream",
     "text": [
      "start_node\n",
      "first_node\n"
     ]
    },
    {
     "data": {
      "text/plain": [
       "{'graph_info': 'I am playing with langgraph.'}"
      ]
     },
     "execution_count": 80,
     "metadata": {},
     "output_type": "execute_result"
    }
   ],
   "source": [
    "graph_builder.invoke({\"graph_info\":\"I am playing with langgraph.\"})"
   ]
  },
  {
   "cell_type": "code",
   "execution_count": null,
   "id": "22f2b418-5a04-489f-b731-77c661d8c701",
   "metadata": {},
   "outputs": [],
   "source": []
  }
 ],
 "metadata": {
  "kernelspec": {
   "display_name": "Python 3 (ipykernel)",
   "language": "python",
   "name": "python3"
  },
  "language_info": {
   "codemirror_mode": {
    "name": "ipython",
    "version": 3
   },
   "file_extension": ".py",
   "mimetype": "text/x-python",
   "name": "python",
   "nbconvert_exporter": "python",
   "pygments_lexer": "ipython3",
   "version": "3.11.0"
  }
 },
 "nbformat": 4,
 "nbformat_minor": 5
}
